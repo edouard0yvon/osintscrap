{
 "cells": [
  {
   "cell_type": "markdown",
   "metadata": {},
   "source": [
    "# Brief Projet 2 : Enquêter sur les mensonges de Donald Trump\n",
    "## Sub compétence : scarpper un article de journal =>  vers 1df vers 1csv. \n",
    "- **Après avoir réccupérer les tweets de Donald Trump, ns allons mettre en lumière ses mensonges !**   \n",
    "url_lies : https://www.nytimes.com/interactive/2017/06/23/opinion/trumps-lies.html\n",
    "- **Q : Réccuperer, construire le df et l'exporter vers fichier csv :**\n",
    "    - les dates des mensonges\n",
    "    - les mensonges correspondants à chaque date\n",
    "    - les argumentations de l'auteur qui correspondant à chaque mensonge\n",
    "    - l'URL de l'argumentation\n",
    "\n",
    "Le web scraping devra fournir ce df :\n",
    "\n",
    "date | lie | explanation | url\n",
    "--- | --- | --- | ---\n",
    "Jan. 21, 2017 | I wasn't a fan of Iraq. I didn't want to go in... | He was for an invasion before he was against it. | https://www.buzzfeed.com/andrewkaczynski/in-20...\n",
    "Jan. 21, 2017 | A reporter for Time magazine — and I have been... | Trump was on the cover 11 times and Nixon appe... | http://nation.time.com/2013/11/06/10-things-yo...\n",
    "Jan. 23, 2017 | Between 3 million and 5 million illegal votes ... | There's no evidence of illegal voting. | https://www.nytimes.com/2017/01/23/us/politics...\n",
    "Jan. 25, 2017 | Now, the audience was the biggest ever. But th... | Official aerial photos show Obama's 2009 inaug... | https://www.nytimes.com/2017/01/21/us/politics..."
   ]
  },
  {
   "cell_type": "code",
   "execution_count": 3,
   "metadata": {},
   "outputs": [],
   "source": [
    "import requests\n",
    "r = requests.get('https://www.nytimes.com/interactive/2017/06/23/opinion/trumps-lies.html')\n",
    "#print(r.text[0 : 500])"
   ]
  },
  {
   "cell_type": "code",
   "execution_count": 4,
   "metadata": {},
   "outputs": [
    {
     "output_type": "execute_result",
     "data": {
      "text/plain": "<span class=\"short-desc\"><strong>Nov. 11 </strong>“I'd rather have him  – you know, work with him on the Ukraine than standing and arguing about whether or not  – because that whole thing was set up by the Democrats.” <span class=\"short-truth\"><a href=\"https://www.nytimes.com/interactive/2017/12/10/us/politics/trump-and-russia.html\" target=\"_blank\">(There is no evidence that Democrats \"set up\" Russian interference in the election.)</a></span></span>"
     },
     "metadata": {},
     "execution_count": 4
    }
   ],
   "source": [
    "from bs4 import BeautifulSoup\n",
    "soup = BeautifulSoup(r.text, 'html.parser')\n",
    "results = soup.find_all('span', attrs={'class':'short-desc'})\n",
    "len(results)\n",
    "results[0:3]\n",
    "results[-1]"
   ]
  },
  {
   "cell_type": "code",
   "execution_count": 5,
   "metadata": {},
   "outputs": [
    {
     "output_type": "execute_result",
     "data": {
      "text/plain": "'Jan. 21, 2017'"
     },
     "metadata": {},
     "execution_count": 5
    }
   ],
   "source": [
    "# Extraire la date\n",
    "first_result = results[0]\n",
    "first_result\n",
    "first_result.find('strong')\n",
    "first_result.find('strong').text\n",
    "first_result.find('strong').text[0:-1] + ', 2017'"
   ]
  },
  {
   "cell_type": "code",
   "execution_count": 6,
   "metadata": {},
   "outputs": [
    {
     "output_type": "execute_result",
     "data": {
      "text/plain": "\"I wasn't a fan of Iraq. I didn't want to go into Iraq.\""
     },
     "metadata": {},
     "execution_count": 6
    }
   ],
   "source": [
    "# Extraire la mensonge\n",
    "first_result\n",
    "first_result.contents\n",
    "first_result.contents[1]\n",
    "first_result.contents[1][1:-2]"
   ]
  },
  {
   "cell_type": "code",
   "execution_count": 7,
   "metadata": {},
   "outputs": [
    {
     "output_type": "execute_result",
     "data": {
      "text/plain": "'He was for an invasion before he was against it.'"
     },
     "metadata": {},
     "execution_count": 7
    }
   ],
   "source": [
    "# Extraire l'explication\n",
    "first_result.contents[2]\n",
    "first_result.find('a')\n",
    "first_result.find('a').text[1:-1]"
   ]
  },
  {
   "cell_type": "code",
   "execution_count": 8,
   "metadata": {},
   "outputs": [
    {
     "output_type": "execute_result",
     "data": {
      "text/plain": "'https://www.buzzfeed.com/andrewkaczynski/in-2002-donald-trump-said-he-supported-invading-iraq-on-the'"
     },
     "metadata": {},
     "execution_count": 8
    }
   ],
   "source": [
    "# Extracting the URL\n",
    "first_result.find('a')\n",
    "first_result.find('a')['href']"
   ]
  },
  {
   "cell_type": "code",
   "execution_count": 11,
   "metadata": {},
   "outputs": [
    {
     "output_type": "execute_result",
     "data": {
      "text/plain": "[('Jan. 21, 2017',\n  \"I wasn't a fan of Iraq. I didn't want to go into Iraq.\",\n  'He was for an invasion before he was against it.',\n  'https://www.buzzfeed.com/andrewkaczynski/in-2002-donald-trump-said-he-supported-invading-iraq-on-the'),\n ('Jan. 21, 2017',\n  'A reporter for Time magazine — and I have been on their cover 14 or 15 times. I think we have the all-time record in the history of Time magazine.',\n  'Trump was on the cover 11 times and Nixon appeared 55 times.',\n  'http://nation.time.com/2013/11/06/10-things-you-didnt-know-about-time/'),\n ('Jan. 23, 2017',\n  'Between 3 million and 5 million illegal votes caused me to lose the popular vote.',\n  \"There's no evidence of illegal voting.\",\n  'https://www.nytimes.com/2017/01/23/us/politics/donald-trump-congress-democrats.html')]"
     },
     "metadata": {},
     "execution_count": 11
    }
   ],
   "source": [
    "# Building the dataset \n",
    "records = []\n",
    "for result in results:\n",
    "    date = result.find('strong').text[0:-1] + ', 2017'\n",
    "    lie = result.contents[1][1:-2]\n",
    "    explanation = result.find('a').text[1:-1]\n",
    "    url = result.find('a')['href']\n",
    "    records.append((date, lie, explanation, url))\n",
    "len(records)    \n",
    "records[0 : 3] "
   ]
  },
  {
   "cell_type": "code",
   "execution_count": 12,
   "metadata": {},
   "outputs": [
    {
     "output_type": "execute_result",
     "data": {
      "text/plain": "            date                                                lie  \\\n0  Jan. 21, 2017  I wasn't a fan of Iraq. I didn't want to go in...   \n1  Jan. 21, 2017  A reporter for Time magazine — and I have been...   \n2  Jan. 23, 2017  Between 3 million and 5 million illegal votes ...   \n3  Jan. 25, 2017  Now, the audience was the biggest ever. But th...   \n4  Jan. 25, 2017  Take a look at the Pew reports (which show vot...   \n\n                                         explanation  \\\n0   He was for an invasion before he was against it.   \n1  Trump was on the cover 11 times and Nixon appe...   \n2             There's no evidence of illegal voting.   \n3  Official aerial photos show Obama's 2009 inaug...   \n4            The report never mentioned voter fraud.   \n\n                                                 url  \n0  https://www.buzzfeed.com/andrewkaczynski/in-20...  \n1  http://nation.time.com/2013/11/06/10-things-yo...  \n2  https://www.nytimes.com/2017/01/23/us/politics...  \n3  https://www.nytimes.com/2017/01/21/us/politics...  \n4  https://www.nytimes.com/2017/01/24/us/politics...  ",
      "text/html": "<div>\n<style scoped>\n    .dataframe tbody tr th:only-of-type {\n        vertical-align: middle;\n    }\n\n    .dataframe tbody tr th {\n        vertical-align: top;\n    }\n\n    .dataframe thead th {\n        text-align: right;\n    }\n</style>\n<table border=\"1\" class=\"dataframe\">\n  <thead>\n    <tr style=\"text-align: right;\">\n      <th></th>\n      <th>date</th>\n      <th>lie</th>\n      <th>explanation</th>\n      <th>url</th>\n    </tr>\n  </thead>\n  <tbody>\n    <tr>\n      <th>0</th>\n      <td>Jan. 21, 2017</td>\n      <td>I wasn't a fan of Iraq. I didn't want to go in...</td>\n      <td>He was for an invasion before he was against it.</td>\n      <td>https://www.buzzfeed.com/andrewkaczynski/in-20...</td>\n    </tr>\n    <tr>\n      <th>1</th>\n      <td>Jan. 21, 2017</td>\n      <td>A reporter for Time magazine — and I have been...</td>\n      <td>Trump was on the cover 11 times and Nixon appe...</td>\n      <td>http://nation.time.com/2013/11/06/10-things-yo...</td>\n    </tr>\n    <tr>\n      <th>2</th>\n      <td>Jan. 23, 2017</td>\n      <td>Between 3 million and 5 million illegal votes ...</td>\n      <td>There's no evidence of illegal voting.</td>\n      <td>https://www.nytimes.com/2017/01/23/us/politics...</td>\n    </tr>\n    <tr>\n      <th>3</th>\n      <td>Jan. 25, 2017</td>\n      <td>Now, the audience was the biggest ever. But th...</td>\n      <td>Official aerial photos show Obama's 2009 inaug...</td>\n      <td>https://www.nytimes.com/2017/01/21/us/politics...</td>\n    </tr>\n    <tr>\n      <th>4</th>\n      <td>Jan. 25, 2017</td>\n      <td>Take a look at the Pew reports (which show vot...</td>\n      <td>The report never mentioned voter fraud.</td>\n      <td>https://www.nytimes.com/2017/01/24/us/politics...</td>\n    </tr>\n  </tbody>\n</table>\n</div>"
     },
     "metadata": {},
     "execution_count": 12
    }
   ],
   "source": [
    "import pandas as pd\n",
    "df = pd.DataFrame(records, columns=['date', 'lie', 'explanation', 'url'])\n",
    "df.head()"
   ]
  },
  {
   "cell_type": "code",
   "execution_count": null,
   "metadata": {},
   "outputs": [],
   "source": []
  }
 ],
 "metadata": {
  "kernelspec": {
   "display_name": "Python 3.7.1 64-bit ('venv': conda)",
   "language": "python",
   "name": "python_defaultSpec_1596641313425"
  },
  "language_info": {
   "codemirror_mode": {
    "name": "ipython",
    "version": 3
   },
   "file_extension": ".py",
   "mimetype": "text/x-python",
   "name": "python",
   "nbconvert_exporter": "python",
   "pygments_lexer": "ipython3",
   "version": "3.7.1-final"
  },
  "varInspector": {
   "cols": {
    "lenName": 16,
    "lenType": 16,
    "lenVar": 40
   },
   "kernels_config": {
    "python": {
     "delete_cmd_postfix": "",
     "delete_cmd_prefix": "del ",
     "library": "var_list.py",
     "varRefreshCmd": "print(var_dic_list())"
    },
    "r": {
     "delete_cmd_postfix": ") ",
     "delete_cmd_prefix": "rm(",
     "library": "var_list.r",
     "varRefreshCmd": "cat(var_dic_list()) "
    }
   },
   "types_to_exclude": [
    "module",
    "function",
    "builtin_function_or_method",
    "instance",
    "_Feature"
   ],
   "window_display": false
  }
 },
 "nbformat": 4,
 "nbformat_minor": 2
}