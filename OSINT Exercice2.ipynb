{
 "cells": [
  {
   "cell_type": "code",
   "execution_count": 3,
   "metadata": {},
   "outputs": [],
   "source": [
    "import requests\n",
    "requete = requests.get('https://www.nytimes.com/interactive/2017/06/23/opinion/trumps-lies.html')"
   ]
  },
  {
   "cell_type": "code",
   "execution_count": 2,
   "metadata": {
    "tags": []
   },
   "outputs": [
    {
     "output_type": "stream",
     "name": "stdout",
     "text": "<!DOCTYPE html>\n<!--[if (gt IE 9)|!(IE)]> <!--><html lang=\"en\" class=\"no-js page-interactive section-opinion page-theme-standard tone-opinion page-interactive-default limit-small layout-xlarge app-interactive\" itemid=\"https://www.nytimes.com/interactive/2017/06/23/opinion/trumps-lies.html\" itemtype=\"http://schema.org/NewsArticle\" itemscope xmlns:og=\"http://opengraphprotocol.org/schema/\"><!--<![endif]-->\n<!--[if IE 9]> <html lang=\"en\" class=\"no-js ie9 lt-ie10 page-interactive section-opinion page\n"
    }
   ],
   "source": [
    "print(requete.text[0 : 500])"
   ]
  },
  {
   "cell_type": "code",
   "execution_count": 12,
   "metadata": {},
   "outputs": [
    {
     "output_type": "execute_result",
     "data": {
      "text/plain": "<span class=\"short-desc\"><strong>Nov. 11 </strong>“I'd rather have him  – you know, work with him on the Ukraine than standing and arguing about whether or not  – because that whole thing was set up by the Democrats.” <span class=\"short-truth\"><a href=\"https://www.nytimes.com/interactive/2017/12/10/us/politics/trump-and-russia.html\" target=\"_blank\">(There is no evidence that Democrats \"set up\" Russian interference in the election.)</a></span></span>"
     },
     "metadata": {},
     "execution_count": 12
    }
   ],
   "source": [
    "# Je vais chercher les informations dans la page.\n",
    "from bs4 import BeautifulSoup\n",
    "soupe = BeautifulSoup(requete.text, 'html.parser')\n",
    "resultats = soupe.find_all('span', attrs={'class':'short-desc'})\n",
    "len(resultats)\n",
    "resultats[0:3]\n",
    "resultats[-1]"
   ]
  },
  {
   "cell_type": "code",
   "execution_count": 20,
   "metadata": {},
   "outputs": [
    {
     "output_type": "execute_result",
     "data": {
      "text/plain": "'Jan. 21, 2017'"
     },
     "metadata": {},
     "execution_count": 20
    }
   ],
   "source": [
    "# J'extrait la date de la page web\n",
    "Premier_resultat = resultats[0]\n",
    "#Premier_resultat\n",
    "#Premier_resultat.find('strong')\n",
    "#Premier_resultat.find('strong').text\n",
    "Premier_resultat.find('strong').text[0:-1] + ', 2017'"
   ]
  },
  {
   "cell_type": "code",
   "execution_count": 19,
   "metadata": {},
   "outputs": [
    {
     "output_type": "execute_result",
     "data": {
      "text/plain": "\"I wasn't a fan of Iraq. I didn't want to go into Iraq.\""
     },
     "metadata": {},
     "execution_count": 19
    }
   ],
   "source": [
    "# On cherche le mensonge\n",
    "#Premier_resultat\n",
    "#Premier_resultat.contents\n",
    "#Premier_resultat.contents[1]\n",
    "Premier_resultat.contents[1][1:-2]"
   ]
  },
  {
   "cell_type": "code",
   "execution_count": 23,
   "metadata": {},
   "outputs": [
    {
     "output_type": "execute_result",
     "data": {
      "text/plain": "'He was for an invasion before he was against it.'"
     },
     "metadata": {},
     "execution_count": 23
    }
   ],
   "source": [
    "# On cherche l'explication l'explication\n",
    "#Premier_resultat.contents[2]\n",
    "#Premier_resultat.find('a')\n",
    "Premier_resultat.find('a').text[1:-1]"
   ]
  },
  {
   "cell_type": "code",
   "execution_count": 25,
   "metadata": {},
   "outputs": [
    {
     "output_type": "execute_result",
     "data": {
      "text/plain": "'https://www.buzzfeed.com/andrewkaczynski/in-2002-donald-trump-said-he-supported-invading-iraq-on-the'"
     },
     "metadata": {},
     "execution_count": 25
    }
   ],
   "source": [
    "# On recupèr l'url\n",
    "Premier_resultat.find('a')\n",
    "Premier_resultat.find('a')['href']"
   ]
  },
  {
   "cell_type": "code",
   "execution_count": 29,
   "metadata": {},
   "outputs": [
    {
     "output_type": "execute_result",
     "data": {
      "text/plain": "[('Jan. 21, 2017',\n  \"I wasn't a fan of Iraq. I didn't want to go into Iraq.\",\n  'He was for an invasion before he was against it.',\n  'https://www.buzzfeed.com/andrewkaczynski/in-2002-donald-trump-said-he-supported-invading-iraq-on-the'),\n ('Jan. 21, 2017',\n  'A reporter for Time magazine — and I have been on their cover 14 or 15 times. I think we have the all-time record in the history of Time magazine.',\n  'Trump was on the cover 11 times and Nixon appeared 55 times.',\n  'http://nation.time.com/2013/11/06/10-things-you-didnt-know-about-time/'),\n ('Jan. 23, 2017',\n  'Between 3 million and 5 million illegal votes caused me to lose the popular vote.',\n  \"There's no evidence of illegal voting.\",\n  'https://www.nytimes.com/2017/01/23/us/politics/donald-trump-congress-democrats.html')]"
     },
     "metadata": {},
     "execution_count": 29
    }
   ],
   "source": [
    "# On construit le dataset \n",
    "Enregistrement = []\n",
    "for resultat in resultats:\n",
    "    date = resultat.find('strong').text[0:-1] + ', 2017'\n",
    "    mensonge = resultat.contents[1][1:-2]\n",
    "    explication = resultat.find('a').text[1:-1]\n",
    "    lien = resultat.find('a')['href']\n",
    "    Enregistrement.append((date, mensonge, explication, lien))\n",
    "len(Enregistrement)    \n",
    "Enregistrement[0 : 3] "
   ]
  },
  {
   "cell_type": "code",
   "execution_count": 32,
   "metadata": {},
   "outputs": [
    {
     "output_type": "execute_result",
     "data": {
      "text/plain": "            date                                           mensonge  \\\n0  Jan. 21, 2017  I wasn't a fan of Iraq. I didn't want to go in...   \n1  Jan. 21, 2017  A reporter for Time magazine — and I have been...   \n2  Jan. 23, 2017  Between 3 million and 5 million illegal votes ...   \n3  Jan. 25, 2017  Now, the audience was the biggest ever. But th...   \n4  Jan. 25, 2017  Take a look at the Pew reports (which show vot...   \n\n                                         explication  \\\n0   He was for an invasion before he was against it.   \n1  Trump was on the cover 11 times and Nixon appe...   \n2             There's no evidence of illegal voting.   \n3  Official aerial photos show Obama's 2009 inaug...   \n4            The report never mentioned voter fraud.   \n\n                                                lien  \n0  https://www.buzzfeed.com/andrewkaczynski/in-20...  \n1  http://nation.time.com/2013/11/06/10-things-yo...  \n2  https://www.nytimes.com/2017/01/23/us/politics...  \n3  https://www.nytimes.com/2017/01/21/us/politics...  \n4  https://www.nytimes.com/2017/01/24/us/politics...  ",
      "text/html": "<div>\n<style scoped>\n    .dataframe tbody tr th:only-of-type {\n        vertical-align: middle;\n    }\n\n    .dataframe tbody tr th {\n        vertical-align: top;\n    }\n\n    .dataframe thead th {\n        text-align: right;\n    }\n</style>\n<table border=\"1\" class=\"dataframe\">\n  <thead>\n    <tr style=\"text-align: right;\">\n      <th></th>\n      <th>date</th>\n      <th>mensonge</th>\n      <th>explication</th>\n      <th>lien</th>\n    </tr>\n  </thead>\n  <tbody>\n    <tr>\n      <th>0</th>\n      <td>Jan. 21, 2017</td>\n      <td>I wasn't a fan of Iraq. I didn't want to go in...</td>\n      <td>He was for an invasion before he was against it.</td>\n      <td>https://www.buzzfeed.com/andrewkaczynski/in-20...</td>\n    </tr>\n    <tr>\n      <th>1</th>\n      <td>Jan. 21, 2017</td>\n      <td>A reporter for Time magazine — and I have been...</td>\n      <td>Trump was on the cover 11 times and Nixon appe...</td>\n      <td>http://nation.time.com/2013/11/06/10-things-yo...</td>\n    </tr>\n    <tr>\n      <th>2</th>\n      <td>Jan. 23, 2017</td>\n      <td>Between 3 million and 5 million illegal votes ...</td>\n      <td>There's no evidence of illegal voting.</td>\n      <td>https://www.nytimes.com/2017/01/23/us/politics...</td>\n    </tr>\n    <tr>\n      <th>3</th>\n      <td>Jan. 25, 2017</td>\n      <td>Now, the audience was the biggest ever. But th...</td>\n      <td>Official aerial photos show Obama's 2009 inaug...</td>\n      <td>https://www.nytimes.com/2017/01/21/us/politics...</td>\n    </tr>\n    <tr>\n      <th>4</th>\n      <td>Jan. 25, 2017</td>\n      <td>Take a look at the Pew reports (which show vot...</td>\n      <td>The report never mentioned voter fraud.</td>\n      <td>https://www.nytimes.com/2017/01/24/us/politics...</td>\n    </tr>\n  </tbody>\n</table>\n</div>"
     },
     "metadata": {},
     "execution_count": 32
    }
   ],
   "source": [
    "import pandas as pd\n",
    "df = pd.DataFrame(Enregistrement, columns=['date', 'mensonge', 'explication', 'lien'])\n",
    "df.head()"
   ]
  },
  {
   "cell_type": "code",
   "execution_count": null,
   "metadata": {},
   "outputs": [],
   "source": []
  }
 ],
 "metadata": {
  "language_info": {
   "codemirror_mode": {
    "name": "ipython",
    "version": 3
   },
   "file_extension": ".py",
   "mimetype": "text/x-python",
   "name": "python",
   "nbconvert_exporter": "python",
   "pygments_lexer": "ipython3",
   "version": 3
  },
  "orig_nbformat": 2,
  "kernelspec": {
   "name": "python_defaultSpec_1596639716760",
   "display_name": "Python 3.7.1 64-bit ('venv': conda)"
  }
 },
 "nbformat": 4,
 "nbformat_minor": 2
}